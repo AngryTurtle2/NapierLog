{
 "cells": [
  {
   "cell_type": "markdown",
   "metadata": {},
   "source": [
    "# 验证一下0度1分的值"
   ]
  },
  {
   "cell_type": "code",
   "execution_count": 6,
   "metadata": {},
   "outputs": [
    {
     "name": "stdout",
     "output_type": "stream",
     "text": [
      "theta角度弧度0.0002908882086657216 \n",
      "Napsin值2908.8820456342455\n",
      "Naplog值81425715.4136557\n"
     ]
    }
   ],
   "source": [
    "import math\n",
    "theta = 1/60 * math.pi/180\n",
    "Napsin = 10**7 * math.sin(theta)\n",
    "Naplog = math.log(Napsin * 10**-7)*-10**7\n",
    "print(\"theta角度弧度{} \\nNapsin值{}\".format(theta,Napsin))\n",
    "print(\"Naplog值{}\".format(Naplog))"
   ]
  },
  {
   "cell_type": "markdown",
   "metadata": {},
   "source": [
    "# 验真45度"
   ]
  },
  {
   "cell_type": "code",
   "execution_count": 7,
   "metadata": {},
   "outputs": [
    {
     "name": "stdout",
     "output_type": "stream",
     "text": [
      "theta角度弧度0.7853981633974483 \n",
      "Napsin值7071067.811865476\n",
      "Naplog值3465735.902799726\n"
     ]
    }
   ],
   "source": [
    "theta = 45 * math.pi / 180\n",
    "Napsin = 10**7 * math.sin(theta)\n",
    "Naplog = math.log(Napsin * 10**-7)*-10**7\n",
    "print(\"theta角度弧度{} \\nNapsin值{}\".format(theta,Napsin))\n",
    "print(\"Naplog值{}\".format(Naplog))"
   ]
  },
  {
   "cell_type": "markdown",
   "metadata": {},
   "source": [
    "# 90度-89度之间每一分的角度值，正弦值，Napsin值"
   ]
  },
  {
   "cell_type": "code",
   "execution_count": null,
   "metadata": {},
   "outputs": [],
   "source": [
    "def decimal_to_dms(angle):\n",
    "    degrees = int(angle)  # 整数部分是度\n",
    "    minutes = int((angle - degrees) * 60)  # 小数部分乘以 60 得到分\n",
    "    return f\"{degrees}° {minutes}'\"\n",
    "\n",
    "展示列表 = []\n",
    "for i in range(60):\n",
    "    theta = (90- i / 60)\n",
    "    theta_rad =theta * math.pi / 180\n",
    "    sinv = math.sin(theta_rad)\n",
    "    Napsin = 10**7 * sinv\n",
    "    展示列表.append([decimal_to_dms(theta),sinv,Napsin])\n",
    "\n",
    "# 将展示列表写入xlsx文件\n",
    "import pandas as pd\n",
    "df = pd.DataFrame(展示列表, columns=['角度', '正弦值', 'Napsin值'])\n",
    "\n",
    "\n",
    "# 保存为 Excel 文件\n",
    "file_name = \"90度-89度.xlsx\"\n",
    "df.to_excel(file_name, index=False)\n",
    "\n",
    "# 调整单元格宽度\n",
    "from openpyxl import load_workbook\n",
    "\n",
    "wb = load_workbook(file_name)\n",
    "ws = wb.active\n",
    "\n",
    "# 设置列宽\n",
    "column_widths = {'A': 20, 'B': 20, 'C': 20}  # 设置A列宽15，B列宽10\n",
    "for col, width in column_widths.items():\n",
    "    ws.column_dimensions[col].width = width\n",
    "\n",
    "# 保存修改后的文件\n",
    "wb.save(file_name)\n",
    "# 销毁df\n",
    "del df\n"
   ]
  },
  {
   "cell_type": "markdown",
   "metadata": {},
   "source": [
    "# 30度15分例子"
   ]
  },
  {
   "cell_type": "code",
   "execution_count": 21,
   "metadata": {},
   "outputs": [
    {
     "name": "stdout",
     "output_type": "stream",
     "text": [
      "30°15'角度 正弦 正弦对数 正切对数 余角正弦对数 余角正弦 59°45'\n",
      "30°15' 5037740 6856276 5392547 1463729 8638355 59°45'\n"
     ]
    }
   ],
   "source": [
    "t1 = (30 + 15/60) * math.pi / 180\n",
    "Napsin = 10**7 * math.sin(t1)\n",
    "Naplog = math.log(Napsin * 10**-7)*-10**7\n",
    "t2 = (59 + 45/60) * math.pi / 180\n",
    "Napsin2 = 10**7 * math.sin(t2)\n",
    "Naplog2 = math.log(Napsin2 * 10**-7)*-10**7\n",
    "logtan = Naplog - Naplog2\n",
    "\n",
    "print(\"30°15'角度 正弦 正弦对数 正切对数 余角正弦对数 余角正弦 59°45'\")\n",
    "print(\"30°15' {:.0f} {:.0f} {:.0f} {:.0f} {:.0f} 59°45'\".format(Napsin, Naplog, logtan, Naplog2,Napsin2))"
   ]
  },
  {
   "cell_type": "markdown",
   "metadata": {},
   "source": [
    "# 验证等比数列"
   ]
  }
 ],
 "metadata": {
  "kernelspec": {
   "display_name": "Python 3",
   "language": "python",
   "name": "python3"
  },
  "language_info": {
   "codemirror_mode": {
    "name": "ipython",
    "version": 3
   },
   "file_extension": ".py",
   "mimetype": "text/x-python",
   "name": "python",
   "nbconvert_exporter": "python",
   "pygments_lexer": "ipython3",
   "version": "3.10.6"
  }
 },
 "nbformat": 4,
 "nbformat_minor": 2
}
